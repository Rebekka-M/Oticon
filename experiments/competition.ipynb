{
 "cells": [
  {
   "cell_type": "code",
   "execution_count": null,
   "metadata": {},
   "outputs": [],
   "source": [
    "from collections import Counter\n",
    "import numpy as np\n",
    "from scipy.linalg import svd\n",
    "from sklearn import model_selection\n",
    "from sklearn.metrics import (\n",
    "    confusion_matrix,\n",
    "    precision_score,\n",
    "    recall_score,\n",
    "    f1_score,\n",
    "    accuracy_score,\n",
    ")\n",
    "import tensorflow as tf\n",
    "from tensorflow.keras import (\n",
    "    models,\n",
    "    layers,\n",
    ")"
   ]
  },
  {
   "cell_type": "code",
   "execution_count": null,
   "metadata": {},
   "outputs": [],
   "source": [
    "#!pip install tensorflow==2.12.* # uncomment to install the latest version of tensorflow"
   ]
  },
  {
   "cell_type": "code",
   "execution_count": null,
   "metadata": {},
   "outputs": [],
   "source": [
    "# Import data\n",
    "import os\n",
    "\n",
    "os.chdir(\"..\")\n",
    "from data.loader import load_training, load_validation, load_testing, n_freq, n_time, n_classes"
   ]
  },
  {
   "cell_type": "code",
   "execution_count": null,
   "metadata": {},
   "outputs": [],
   "source": [
    "X_train, y_train = load_training()\n",
    "X_val, y_val = load_validation()\n",
    "X_test, y_test = load_testing()\n",
    "\n",
    "y_train = y_train == 1\n",
    "y_val = y_val == 1\n",
    "y_test = y_test == 1"
   ]
  },
  {
   "cell_type": "code",
   "execution_count": null,
   "metadata": {},
   "outputs": [],
   "source": [
    "np.mean(y_train), np.mean(y_val), np.mean(y_test)"
   ]
  },
  {
   "cell_type": "code",
   "execution_count": null,
   "metadata": {},
   "outputs": [],
   "source": [
    "cf_matrices = []\n",
    "accuracies = []\n",
    "precisions = []\n",
    "recalls = []\n",
    "f1_scores = []\n",
    "\n",
    "# print('='*20 + f' Training model for {X.shape[2]} timeframes per sample ' + '='*20)\n",
    "\n",
    "ann = models.Sequential()\n",
    "ann.add(layers.Conv2D(32, (3, 3), activation='relu', input_shape=(*X_train[0].shape, 1)))\n",
    "ann.add(layers.MaxPooling2D((2, 2)))\n",
    "ann.add(layers.Dropout(0.2))\n",
    "ann.add(layers.Conv2D(32, (3, 3), activation='relu', input_shape=(*X_train[0].shape, 1)))\n",
    "ann.add(layers.MaxPooling2D((2, 2)))\n",
    "ann.add(layers.Dropout(0.2))\n",
    "ann.add(layers.Flatten())\n",
    "ann.add(layers.Dense(64, activation='relu'))\n",
    "ann.add(layers.Dropout(0.2))\n",
    "ann.add(layers.Dense(32, activation='relu'))\n",
    "ann.add(layers.Dense(1, activation='sigmoid'))\n",
    "\n",
    "callback = tf.keras.callbacks.EarlyStopping(monitor='val_loss', patience=3)\n",
    "\n",
    "ann.compile(optimizer='adam', loss='binary_crossentropy', metrics=['accuracy'])\n",
    "\n",
    "# X_train, X_test, y_train, y_test = model_selection.train_test_split(X, y, test_size=0.2, stratify=y, random_state=123)\n",
    "#X_train, X_val, y_train, y_val = model_selection.train_test_split(X_train, y_train, test_size=0.2, random_state=123)\n",
    "\n",
    "history = ann.fit(X_train, y_train, epochs=20, batch_size=32, validation_data=(X_val, y_val), callbacks=[callback])\n",
    "\n",
    "y_pred = ann.predict(X_test) > 0.5\n",
    "cf_matrices.append(confusion_matrix(y_pred, y_test))\n",
    "accuracy = accuracy_score(y_test, y_pred[:, 0])\n",
    "precision = precision_score(y_test, y_pred)\n",
    "recall = recall_score(y_test, y_pred)\n",
    "f1 = f1_score(y_test, y_pred)\n",
    "\n",
    "print(f'Accuracy: {accuracy:3.3f}')\n",
    "print(f'Precision: {precision:3.3f}')\n",
    "print(f'Recall: {recall:3.3f}')\n",
    "print(f'F1 Score: {f1:3.3f}')\n",
    "\n",
    "accuracies.append(accuracy)\n"
   ]
  },
  {
   "cell_type": "code",
   "execution_count": null,
   "metadata": {},
   "outputs": [],
   "source": [
    "# Get total number of parameters in the model\n",
    "total_params = ann.count_params()\n",
    "print(f'Total number of parameters: {total_params}')"
   ]
  },
  {
   "cell_type": "code",
   "execution_count": null,
   "metadata": {},
   "outputs": [],
   "source": [
    "#!pip install tensorflow==2.12.* # uncomment to install the latest version of tensorflow"
   ]
  },
  {
   "cell_type": "code",
   "execution_count": 5,
   "metadata": {},
   "outputs": [
    {
     "name": "stdout",
     "output_type": "stream",
     "text": [
      "WARNING: If you are training/experimenting, use the training and validation set instead.\n",
      "Use this function only for the very final evaluation before the competition ends.\n"
     ]
    }
   ],
   "source": [
    "X_train, y_train = load_training()\n",
    "X_val, y_val = load_validation()\n",
    "X_test, y_test = load_testing()\n",
    "\n",
    "y_train = y_train == 1\n",
    "y_val = y_val == 1\n",
    "y_test = y_test == 1"
   ]
  },
  {
   "cell_type": "code",
   "execution_count": 7,
   "metadata": {},
   "outputs": [
    {
     "name": "stdout",
     "output_type": "stream",
     "text": [
      "Epoch 1/20\n",
      "1058/1058 [==============================] - 142s 131ms/step - loss: 0.5307 - accuracy: 0.7946 - val_loss: 0.3616 - val_accuracy: 0.8525\n",
      "Epoch 2/20\n",
      "1058/1058 [==============================] - 177s 167ms/step - loss: 0.3603 - accuracy: 0.8518 - val_loss: 0.3353 - val_accuracy: 0.8657\n",
      "Epoch 3/20\n",
      "1058/1058 [==============================] - 172s 163ms/step - loss: 0.3050 - accuracy: 0.8774 - val_loss: 0.2746 - val_accuracy: 0.8922\n",
      "Epoch 4/20\n",
      "1058/1058 [==============================] - 173s 163ms/step - loss: 0.2740 - accuracy: 0.8924 - val_loss: 0.2489 - val_accuracy: 0.9037\n",
      "Epoch 5/20\n",
      "1058/1058 [==============================] - 139s 131ms/step - loss: 0.2504 - accuracy: 0.9038 - val_loss: 0.2416 - val_accuracy: 0.9106\n",
      "Epoch 6/20\n",
      "1058/1058 [==============================] - 141s 134ms/step - loss: 0.2339 - accuracy: 0.9102 - val_loss: 0.2265 - val_accuracy: 0.9178\n",
      "Epoch 7/20\n",
      "1058/1058 [==============================] - 140s 132ms/step - loss: 0.2183 - accuracy: 0.9157 - val_loss: 0.2306 - val_accuracy: 0.9119\n",
      "Epoch 8/20\n",
      "1058/1058 [==============================] - 149s 141ms/step - loss: 0.2044 - accuracy: 0.9217 - val_loss: 0.2466 - val_accuracy: 0.9043\n",
      "Epoch 9/20\n",
      "1058/1058 [==============================] - 172s 162ms/step - loss: 0.2012 - accuracy: 0.9240 - val_loss: 0.2126 - val_accuracy: 0.9213\n",
      "Epoch 10/20\n",
      "1058/1058 [==============================] - 151s 143ms/step - loss: 0.1798 - accuracy: 0.9323 - val_loss: 0.1980 - val_accuracy: 0.9244\n",
      "Epoch 11/20\n",
      "1058/1058 [==============================] - 132s 124ms/step - loss: 0.1776 - accuracy: 0.9325 - val_loss: 0.1845 - val_accuracy: 0.9345\n",
      "Epoch 12/20\n",
      "1058/1058 [==============================] - 130s 123ms/step - loss: 0.1650 - accuracy: 0.9383 - val_loss: 0.1778 - val_accuracy: 0.9309\n",
      "Epoch 13/20\n",
      "1058/1058 [==============================] - 131s 124ms/step - loss: 0.1618 - accuracy: 0.9386 - val_loss: 0.1786 - val_accuracy: 0.9338\n",
      "Epoch 14/20\n",
      "1058/1058 [==============================] - 127s 120ms/step - loss: 0.1500 - accuracy: 0.9433 - val_loss: 0.1643 - val_accuracy: 0.9402\n",
      "Epoch 15/20\n",
      "1058/1058 [==============================] - 151s 142ms/step - loss: 0.1406 - accuracy: 0.9477 - val_loss: 0.1911 - val_accuracy: 0.9302\n",
      "Epoch 16/20\n",
      "1058/1058 [==============================] - 120s 114ms/step - loss: 0.1434 - accuracy: 0.9438 - val_loss: 0.1809 - val_accuracy: 0.9361\n",
      "Epoch 17/20\n",
      "1058/1058 [==============================] - 118s 112ms/step - loss: 0.1359 - accuracy: 0.9497 - val_loss: 0.1892 - val_accuracy: 0.9384\n",
      "331/331 [==============================] - 9s 27ms/step\n",
      "Accuracy: 0.934\n",
      "Precision: 0.963\n",
      "Recall: 0.907\n",
      "F1 Score: 0.934\n"
     ]
    }
   ],
   "source": [
    "cf_matrices = []\n",
    "accuracies = []\n",
    "precisions = []\n",
    "recalls = []\n",
    "f1_scores = []\n",
    "\n",
    "# print('='*20 + f' Training model for {X.shape[2]} timeframes per sample ' + '='*20)\n",
    "\n",
    "ann = models.Sequential()\n",
    "ann.add(layers.Conv2D(32, (3, 3), activation='relu', input_shape=(*X_train[0].shape, 1)))\n",
    "ann.add(layers.MaxPooling2D((2, 2)))\n",
    "ann.add(layers.Dropout(0.2))\n",
    "ann.add(layers.Conv2D(32, (3, 3), activation='relu', input_shape=(*X_train[0].shape, 1)))\n",
    "ann.add(layers.MaxPooling2D((2, 2)))\n",
    "ann.add(layers.Dropout(0.2))\n",
    "ann.add(layers.Flatten())\n",
    "ann.add(layers.Dense(64, activation='relu'))\n",
    "ann.add(layers.Dropout(0.2))\n",
    "ann.add(layers.Dense(32, activation='relu'))\n",
    "ann.add(layers.Dense(1, activation='sigmoid'))\n",
    "\n",
    "callback = tf.keras.callbacks.EarlyStopping(monitor='val_loss', patience=3)\n",
    "\n",
    "ann.compile(optimizer='adam', loss='binary_crossentropy', metrics=['accuracy'])\n",
    "\n",
    "# X_train, X_test, y_train, y_test = model_selection.train_test_split(X, y, test_size=0.2, stratify=y, random_state=123)\n",
    "#X_train, X_val, y_train, y_val = model_selection.train_test_split(X_train, y_train, test_size=0.2, random_state=123)\n",
    "\n",
    "history = ann.fit(X_train, y_train, epochs=20, batch_size=32, validation_data=(X_val, y_val), callbacks=[callback])\n",
    "\n",
    "y_pred = ann.predict(X_test) > 0.5\n",
    "cf_matrices.append(confusion_matrix(y_pred, y_test))\n",
    "accuracy = accuracy_score(y_test, y_pred[:, 0])\n",
    "precision = precision_score(y_test, y_pred)\n",
    "recall = recall_score(y_test, y_pred)\n",
    "f1 = f1_score(y_test, y_pred)\n",
    "\n",
    "print(f'Accuracy: {accuracy:3.3f}')\n",
    "print(f'Precision: {precision:3.3f}')\n",
    "print(f'Recall: {recall:3.3f}')\n",
    "print(f'F1 Score: {f1:3.3f}')\n",
    "\n",
    "accuracies.append(accuracy)\n"
   ]
  }
 ],
 "metadata": {
  "kernelspec": {
   "display_name": "oticon",
   "language": "python",
   "name": "python3"
  },
  "language_info": {
   "codemirror_mode": {
    "name": "ipython",
    "version": 3
   },
   "file_extension": ".py",
   "mimetype": "text/x-python",
   "name": "python",
   "nbconvert_exporter": "python",
   "pygments_lexer": "ipython3",
   "version": "3.10.10"
  },
  "orig_nbformat": 4
 },
 "nbformat": 4,
 "nbformat_minor": 2
}
