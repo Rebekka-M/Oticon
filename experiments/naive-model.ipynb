{
 "cells": [
  {
   "cell_type": "code",
   "execution_count": 2,
   "metadata": {},
   "outputs": [],
   "source": [
    "import torch as t\n",
    "import torch.nn as nn\n",
    "import torch.nn.functional as F\n",
    "import torch.optim as optim \n",
    "from torch.utils.data import TensorDataset, DataLoader\n",
    "import numpy as np\n",
    "import matplotlib.pyplot as plt\n",
    "from tqdm.notebook import trange, tqdm\n",
    "import os\n",
    "\n",
    "\n",
    "os.chdir(\"..\")\n",
    "from data.loader import load_training, load_validation, n_freq, n_time, n_classes"
   ]
  },
  {
   "cell_type": "code",
   "execution_count": 26,
   "metadata": {},
   "outputs": [],
   "source": [
    "force_cpu = True\n",
    "\n",
    "\n",
    "if t.cuda.is_available() and not force_cpu:\n",
    "    device = t.device(\"cuda\")\n",
    "else:\n",
    "    device = t.device(\"cpu\")\n",
    "\n",
    "\n",
    "X_map = lambda X: t.from_numpy(X).to(dtype=t.float)\n",
    "y_map = lambda y: t.from_numpy(y).to(dtype=t.uint8)\n",
    "loader_map = lambda data: DataLoader(\n",
    "    dataset=data,\n",
    "    batch_size=128,\n",
    "    shuffle=True,\n",
    "    num_workers=4,\n",
    "    pin_memory=\"cuda\" == device,\n",
    ")\n",
    "\n",
    "\n",
    "X_train, y_train = load_training()\n",
    "X_val, y_val = load_validation()\n",
    "\n",
    "X_train, X_val = map(X_map, (X_train, X_val))\n",
    "y_train, y_val = map(y_map, (y_train, y_val))\n",
    "\n",
    "\n",
    "data_train = TensorDataset(X_train, y_train)\n",
    "data_val = TensorDataset(X_val, y_val)\n",
    "\n",
    "loader_train, loader_val = map(loader_map, (data_train, data_val))\n",
    "\n",
    "\n",
    "n_train = len(X_train)\n",
    "n_val = len(X_val)"
   ]
  },
  {
   "cell_type": "code",
   "execution_count": 34,
   "metadata": {},
   "outputs": [
    {
     "data": {
      "application/vnd.jupyter.widget-view+json": {
       "model_id": "cb33b7640a104fd590bb609b06f937cf",
       "version_major": 2,
       "version_minor": 0
      },
      "text/plain": [
       "  0%|          | 0/20 [00:00<?, ?it/s]"
      ]
     },
     "metadata": {},
     "output_type": "display_data"
    }
   ],
   "source": [
    "class NaiveModel(nn.Module):\n",
    "    def __init__(self):\n",
    "        super().__init__()\n",
    "\n",
    "        self.model = nn.Sequential(\n",
    "            nn.Conv1d(32, 32, 3),\n",
    "            nn.Conv1d(32, 16, 3),\n",
    "            nn.Tanh(),\n",
    "            nn.AvgPool1d(3),\n",
    "            nn.Conv1d(16, 4, 1),\n",
    "            nn.Tanh(),\n",
    "            nn.Flatten(),\n",
    "            nn.Linear(120, 64),\n",
    "            nn.Tanh(),\n",
    "            nn.Linear(64, n_classes)\n",
    "        )\n",
    "\n",
    "\n",
    "    def forward(self, X: t.Tensor) -> t.Tensor:\n",
    "        return self.model(X)\n",
    "\n",
    "\n",
    "learning_rate = 1e-4\n",
    "weight_decay = 1e-4\n",
    "n_epochs = 20\n",
    "\n",
    "model = NaiveModel().to(device)\n",
    "\n",
    "\n",
    "model.train()\n",
    "optimizer = optim.Adam(model.parameters(), lr=learning_rate, weight_decay=weight_decay)\n",
    "loss_fn = nn.CrossEntropyLoss()\n",
    "\n",
    "acc_running = 0\n",
    "\n",
    "for epoch in (bar:=trange(n_epochs)):\n",
    "    for x, y in loader_train:\n",
    "        x = x.to(device)\n",
    "        y = y.to(device)\n",
    "\n",
    "        y_pred = model(x)\n",
    "        \n",
    "        loss = loss_fn(y_pred, y)\n",
    "\n",
    "        acc = (y_pred.argmax(dim=1) == y).sum() / y.size(0)\n",
    "        acc_running += 0.05 * (acc.item() - acc_running)\n",
    "        bar.set_postfix(acc=f\"{acc_running:.2f}\")\n",
    "\n",
    "        optimizer.zero_grad()\n",
    "        loss.backward()\n",
    "        optimizer.step()"
   ]
  },
  {
   "cell_type": "code",
   "execution_count": 35,
   "metadata": {},
   "outputs": [
    {
     "data": {
      "application/vnd.jupyter.widget-view+json": {
       "model_id": "0fc1679e3ea24463abe477d07bfa0358",
       "version_major": 2,
       "version_minor": 0
      },
      "text/plain": [
       "0it [00:00, ?it/s]"
      ]
     },
     "metadata": {},
     "output_type": "display_data"
    },
    {
     "name": "stdout",
     "output_type": "stream",
     "text": [
      "0.7393812190240887\n"
     ]
    }
   ],
   "source": [
    "model.eval()\n",
    "\n",
    "acc_running = 0\n",
    "\n",
    "for i, (x, y) in (bar:=tqdm(enumerate(loader_val, 1), leave=False)):\n",
    "    x = x.to(device)\n",
    "    y = y.to(device)\n",
    "\n",
    "    y_pred = model(x)\n",
    "\n",
    "    acc = (y_pred.argmax(dim=1) == y).sum() / y.size(0)\n",
    "\n",
    "    acc_running += 1/i * (acc.item() - acc_running)\n",
    "    bar.set_postfix(acc=f\"{acc_running:.2f}\")\n",
    "\n",
    "\n",
    "print(acc_running)"
   ]
  },
  {
   "cell_type": "code",
   "execution_count": 21,
   "metadata": {},
   "outputs": [
    {
     "data": {
      "image/png": "[encoded data removed]",
      "text/plain": [
       "<Figure size 640x480 with 1 Axes>"
      ]
     },
     "metadata": {},
     "output_type": "display_data"
    }
   ],
   "source": [
    "plt.hist(y_train, bins=5, density=True)\n",
    "plt.show()"
   ]
  }
 ],
 "metadata": {
  "kernelspec": {
   "display_name": "Python 3",
   "language": "python",
   "name": "python3"
  },
  "language_info": {
   "codemirror_mode": {
    "name": "ipython",
    "version": 3
   },
   "file_extension": ".py",
   "mimetype": "text/x-python",
   "name": "python",
   "nbconvert_exporter": "python",
   "pygments_lexer": "ipython3",
   "version": "3.11.2"
  },
  "orig_nbformat": 4
 },
 "nbformat": 4,
 "nbformat_minor": 2
}
